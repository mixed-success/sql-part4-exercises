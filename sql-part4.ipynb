{
    "metadata": {
        "kernelspec": {
            "name": "SQL",
            "display_name": "SQL",
            "language": "sql"
        },
        "language_info": {
            "name": "sql",
            "version": ""
        }
    },
    "nbformat_minor": 2,
    "nbformat": 4,
    "cells": [
        {
            "cell_type": "markdown",
            "source": [
                "# Exercises: Complex queries\n",
                "\n",
                "For the exercises, you are tasked with writing five queries that will help you delve deeper into BooksDB. You can choose whether you want to use a correlated subquery, a nested subquery, the UNION operator, the INTERSECT operator, or the EXCEPT operator for each one. You may not use joins or add multiple statements to the WHERE clause.\n",
                "\n",
                "1. Write a query that will return the number of users who rated a book above its average rating."
            ],
            "metadata": {
                "azdata_cell_guid": "10006a10-882f-4f55-8d42-f36044fdb6c7"
            },
            "attachments": {}
        },
        {
            "cell_type": "code",
            "source": [
                "SELECT TOP 5 COUNT(user_id), book_id FROM BooksDB.dbo.ratings\r\n",
                "group by book_id\r\n",
                "\r\n",
                "\r\n",
                "\r\n",
                ""
            ],
            "metadata": {
                "azdata_cell_guid": "203eb95e-6585-435f-8a8e-bfa0dfe6f7c0",
                "tags": [],
                "language": "sql"
            },
            "outputs": [
                {
                    "output_type": "display_data",
                    "data": {
                        "text/html": "(5 rows affected)"
                    },
                    "metadata": {}
                },
                {
                    "output_type": "display_data",
                    "data": {
                        "text/html": "Total execution time: 00:00:00.420"
                    },
                    "metadata": {}
                },
                {
                    "output_type": "execute_result",
                    "execution_count": 16,
                    "data": {
                        "application/vnd.dataresource+json": {
                            "schema": {
                                "fields": [
                                    {
                                        "name": "(No column name)"
                                    },
                                    {
                                        "name": "book_id"
                                    }
                                ]
                            },
                            "data": [
                                {
                                    "0": "100",
                                    "1": "86"
                                },
                                {
                                    "0": "100",
                                    "1": "93"
                                },
                                {
                                    "0": "100",
                                    "1": "136"
                                },
                                {
                                    "0": "100",
                                    "1": "143"
                                },
                                {
                                    "0": "100",
                                    "1": "153"
                                }
                            ]
                        },
                        "text/html": "<table><tr><th>(No column name)</th><th>book_id</th></tr><tr><td>100</td><td>86</td></tr><tr><td>100</td><td>93</td></tr><tr><td>100</td><td>136</td></tr><tr><td>100</td><td>143</td></tr><tr><td>100</td><td>153</td></tr></table>"
                    },
                    "metadata": {}
                }
            ],
            "execution_count": 16
        },
        {
            "cell_type": "markdown",
            "source": [
                "2. Write a query that returns the book ids of all books that have over 1000 ratings of 1 star or over 1000 ratings of 5 stars."
            ],
            "metadata": {
                "azdata_cell_guid": "7f849931-6c9c-4cd9-b3ba-66871052673d"
            },
            "attachments": {}
        },
        {
            "cell_type": "code",
            "source": [
                "select top 5 book_id, count(rating) as \"number of 1 or 5 star ratings\" from BooksDB.dbo.ratings\r\n",
                "WHERE rating = 1\r\n",
                "group by book_id\r\n",
                "having count(rating) > 10\r\n",
                "UNION\r\n",
                "select top 5 book_id, count(rating) from BooksDB.dbo.ratings\r\n",
                "WHERE rating = 5\r\n",
                "group by book_id\r\n",
                "having count(rating) > 10\r\n",
                "ORDER BY book_id\r\n",
                ""
            ],
            "metadata": {
                "azdata_cell_guid": "bce732e3-1590-457b-b1f9-5319345ff790",
                "language": "sql"
            },
            "outputs": [
                {
                    "output_type": "display_data",
                    "data": {
                        "text/html": "(10 rows affected)"
                    },
                    "metadata": {}
                },
                {
                    "output_type": "display_data",
                    "data": {
                        "text/html": "Total execution time: 00:00:00.413"
                    },
                    "metadata": {}
                },
                {
                    "output_type": "execute_result",
                    "execution_count": 29,
                    "data": {
                        "application/vnd.dataresource+json": {
                            "schema": {
                                "fields": [
                                    {
                                        "name": "book_id"
                                    },
                                    {
                                        "name": "number of 1 or 5 star ratings"
                                    }
                                ]
                            },
                            "data": [
                                {
                                    "0": "86",
                                    "1": "25"
                                },
                                {
                                    "0": "93",
                                    "1": "37"
                                },
                                {
                                    "0": "136",
                                    "1": "23"
                                },
                                {
                                    "0": "143",
                                    "1": "55"
                                },
                                {
                                    "0": "153",
                                    "1": "23"
                                },
                                {
                                    "0": "255",
                                    "1": "11"
                                },
                                {
                                    "0": "959",
                                    "1": "14"
                                },
                                {
                                    "0": "1039",
                                    "1": "14"
                                },
                                {
                                    "0": "4845",
                                    "1": "11"
                                },
                                {
                                    "0": "5355",
                                    "1": "13"
                                }
                            ]
                        },
                        "text/html": "<table><tr><th>book_id</th><th>number of 1 or 5 star ratings</th></tr><tr><td>86</td><td>25</td></tr><tr><td>93</td><td>37</td></tr><tr><td>136</td><td>23</td></tr><tr><td>143</td><td>55</td></tr><tr><td>153</td><td>23</td></tr><tr><td>255</td><td>11</td></tr><tr><td>959</td><td>14</td></tr><tr><td>1039</td><td>14</td></tr><tr><td>4845</td><td>11</td></tr><tr><td>5355</td><td>13</td></tr></table>"
                    },
                    "metadata": {}
                }
            ],
            "execution_count": 29
        },
        {
            "cell_type": "markdown",
            "source": [
                "3. Write a query that returns the book ids of all books that have over 1000 ratings of 1 star and over 1000 ratings of 5 stars."
            ],
            "metadata": {
                "azdata_cell_guid": "9c53b866-c8e8-465e-b089-7702b191a15e"
            },
            "attachments": {}
        },
        {
            "cell_type": "code",
            "source": [
                "SELECT TOP 5 book_id, COUNT(rating) FROM BooksDb.dbo.ratings\r\n",
                "WHERE rating = 1\r\n",
                "GROUP BY book_id\r\n",
                "HAVING COUNT(rating) > 0\r\n",
                "INTERSECT\r\n",
                "SELECT TOP 5 book_id, COUNT(rating) FROM BooksDb.dbo.ratings\r\n",
                "WHERE rating = 5\r\n",
                "GROUP BY book_id\r\n",
                "HAVING COUNT(rating) > 0\r\n",
                "\r\n",
                "---- this doesn't return anything?\r\n",
                ""
            ],
            "metadata": {
                "azdata_cell_guid": "43e39973-5a29-45ff-b2a9-9c658a19c296",
                "language": "sql"
            },
            "outputs": [
                {
                    "output_type": "display_data",
                    "data": {
                        "text/html": "(0 rows affected)"
                    },
                    "metadata": {}
                },
                {
                    "output_type": "display_data",
                    "data": {
                        "text/html": "Total execution time: 00:00:00.671"
                    },
                    "metadata": {}
                },
                {
                    "output_type": "execute_result",
                    "execution_count": 36,
                    "data": {
                        "application/vnd.dataresource+json": {
                            "schema": {
                                "fields": [
                                    {
                                        "name": "book_id"
                                    },
                                    {
                                        "name": "(No column name)"
                                    }
                                ]
                            },
                            "data": []
                        },
                        "text/html": "<table><tr><th>book_id</th><th>(No column name)</th></tr></table>"
                    },
                    "metadata": {}
                }
            ],
            "execution_count": 36
        },
        {
            "cell_type": "markdown",
            "source": [
                "4. Write a query that returns the book ids of books that have a language code of \"en-US\" and not a langugae code of \"en-GB\"."
            ],
            "metadata": {
                "azdata_cell_guid": "2bd4844b-83af-490f-97cd-fdc1fa2944ec"
            },
            "attachments": {}
        },
        {
            "cell_type": "code",
            "source": [
                "select top 10 book_id, language_code from BooksDB.dbo.books\r\n",
                "where language_code like 'en-US'\r\n",
                "except \r\n",
                "select top 10 book_id, language_code from BooksDB.dbo.books\r\n",
                "where language_code like 'en-GB'"
            ],
            "metadata": {
                "azdata_cell_guid": "ba5a1b61-19c0-4d70-ae8d-2daae6ae1e21",
                "language": "sql"
            },
            "outputs": [
                {
                    "output_type": "display_data",
                    "data": {
                        "text/html": "(10 rows affected)"
                    },
                    "metadata": {}
                },
                {
                    "output_type": "display_data",
                    "data": {
                        "text/html": "Total execution time: 00:00:00.141"
                    },
                    "metadata": {}
                },
                {
                    "output_type": "execute_result",
                    "execution_count": 45,
                    "data": {
                        "application/vnd.dataresource+json": {
                            "schema": {
                                "fields": [
                                    {
                                        "name": "book_id"
                                    },
                                    {
                                        "name": "language_code"
                                    }
                                ]
                            },
                            "data": [
                                {
                                    "0": "11",
                                    "1": "en-US"
                                },
                                {
                                    "0": "1934",
                                    "1": "en-US"
                                },
                                {
                                    "0": "5907",
                                    "1": "en-US"
                                },
                                {
                                    "0": "37435",
                                    "1": "en-US"
                                },
                                {
                                    "0": "41865",
                                    "1": "en-US"
                                },
                                {
                                    "0": "113436",
                                    "1": "en-US"
                                },
                                {
                                    "0": "428263",
                                    "1": "en-US"
                                },
                                {
                                    "0": "1162543",
                                    "1": "en-US"
                                },
                                {
                                    "0": "1656001",
                                    "1": "en-US"
                                },
                                {
                                    "0": "6442769",
                                    "1": "en-US"
                                }
                            ]
                        },
                        "text/html": "<table><tr><th>book_id</th><th>language_code</th></tr><tr><td>11</td><td>en-US</td></tr><tr><td>1934</td><td>en-US</td></tr><tr><td>5907</td><td>en-US</td></tr><tr><td>37435</td><td>en-US</td></tr><tr><td>41865</td><td>en-US</td></tr><tr><td>113436</td><td>en-US</td></tr><tr><td>428263</td><td>en-US</td></tr><tr><td>1162543</td><td>en-US</td></tr><tr><td>1656001</td><td>en-US</td></tr><tr><td>6442769</td><td>en-US</td></tr></table>"
                    },
                    "metadata": {}
                }
            ],
            "execution_count": 45
        },
        {
            "cell_type": "markdown",
            "source": [
                "5. Write a query that returns the names of the tags and the tag ids for tags that were used over 100,000 times for a book. "
            ],
            "metadata": {
                "azdata_cell_guid": "6ddd588f-a84c-4c77-93ac-e8c8bd21d0f5"
            },
            "attachments": {}
        },
        {
            "cell_type": "code",
            "source": [
                "select top 10 tag_name, tag_id from BooksDB.dbo.tags\r\n",
                "where tag_id IN (select top 5 tag_id from BooksDB.dbo.book_tags\r\n",
                "where count > 100000)\r\n",
                "\r\n",
                "------- it seems like this should have more than one result..."
            ],
            "metadata": {
                "azdata_cell_guid": "90f61ad7-65cb-4ea8-85a3-d8c815cfe347",
                "tags": [],
                "language": "sql"
            },
            "outputs": [
                {
                    "output_type": "display_data",
                    "data": {
                        "text/html": "(1 row affected)"
                    },
                    "metadata": {}
                },
                {
                    "output_type": "display_data",
                    "data": {
                        "text/html": "Total execution time: 00:00:00.081"
                    },
                    "metadata": {}
                },
                {
                    "output_type": "execute_result",
                    "metadata": {},
                    "execution_count": 9,
                    "data": {
                        "application/vnd.dataresource+json": {
                            "schema": {
                                "fields": [
                                    {
                                        "name": "tag_name"
                                    },
                                    {
                                        "name": "tag_id"
                                    }
                                ]
                            },
                            "data": [
                                {
                                    "0": "to-read",
                                    "1": "30574"
                                }
                            ]
                        },
                        "text/html": [
                            "<table>",
                            "<tr><th>tag_name</th><th>tag_id</th></tr>",
                            "<tr><td>to-read</td><td>30574</td></tr>",
                            "</table>"
                        ]
                    }
                }
            ],
            "execution_count": 9
        },
        {
            "cell_type": "code",
            "source": [
                "select top 5 * from BooksDB.dbo.book_tags\r\n",
                "where count > 100000"
            ],
            "metadata": {
                "azdata_cell_guid": "a5f8341d-6087-453c-8bbb-7dccfc2827c9",
                "language": "sql"
            },
            "outputs": [
                {
                    "output_type": "display_data",
                    "data": {
                        "text/html": "(5 rows affected)"
                    },
                    "metadata": {}
                },
                {
                    "output_type": "display_data",
                    "data": {
                        "text/html": "Total execution time: 00:00:00.229"
                    },
                    "metadata": {}
                },
                {
                    "output_type": "execute_result",
                    "metadata": {},
                    "execution_count": 4,
                    "data": {
                        "application/vnd.dataresource+json": {
                            "schema": {
                                "fields": [
                                    {
                                        "name": "goodreads_book_id"
                                    },
                                    {
                                        "name": "tag_id"
                                    },
                                    {
                                        "name": "count"
                                    }
                                ]
                            },
                            "data": [
                                {
                                    "0": "1",
                                    "1": "30574",
                                    "2": "167697"
                                },
                                {
                                    "0": "3",
                                    "1": "30574",
                                    "2": "496107"
                                },
                                {
                                    "0": "33",
                                    "1": "30574",
                                    "2": "116442"
                                },
                                {
                                    "0": "295",
                                    "1": "30574",
                                    "2": "108955"
                                },
                                {
                                    "0": "343",
                                    "1": "30574",
                                    "2": "107894"
                                }
                            ]
                        },
                        "text/html": [
                            "<table>",
                            "<tr><th>goodreads_book_id</th><th>tag_id</th><th>count</th></tr>",
                            "<tr><td>1</td><td>30574</td><td>167697</td></tr>",
                            "<tr><td>3</td><td>30574</td><td>496107</td></tr>",
                            "<tr><td>33</td><td>30574</td><td>116442</td></tr>",
                            "<tr><td>295</td><td>30574</td><td>108955</td></tr>",
                            "<tr><td>343</td><td>30574</td><td>107894</td></tr>",
                            "</table>"
                        ]
                    }
                }
            ],
            "execution_count": 4
        }
    ]
}